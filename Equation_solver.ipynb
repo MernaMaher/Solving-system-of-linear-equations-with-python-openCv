{
 "cells": [
  {
   "cell_type": "code",
   "execution_count": 3,
   "metadata": {
    "collapsed": true
   },
   "outputs": [],
   "source": [
    "import cv2\n",
    "import numpy as np\n",
    "import pytesseract\n",
    "from tkinter import Tk\n",
    "from tkinter import *\n",
    "from tkinter.filedialog import askopenfilename"
   ]
  },
  {
   "cell_type": "code",
   "execution_count": 4,
   "metadata": {},
   "outputs": [],
   "source": [
    "window = Tk()\n",
    "window.filename = filedialog.askopenfilename(filetypes = ((\"howcode files\",\"*.hc\"),(\"All files\",\"*.*\")))"
   ]
  },
  {
   "cell_type": "code",
   "execution_count": 5,
   "metadata": {
    "collapsed": true
   },
   "outputs": [],
   "source": [
    "def get_negatives(eqn):\n",
    "    negatives=[]\n",
    "    c=-1\n",
    "    start_eqn=True\n",
    "    for letter in eqn:\n",
    "        \n",
    "        if letter==\"+\" or letter==\"-\" or start_eqn:\n",
    "            c=c+1\n",
    "            start_eqn=False\n",
    "        if letter==\"-\":\n",
    "            negatives.append(c)\n",
    "    return negatives"
   ]
  },
  {
   "cell_type": "code",
   "execution_count": 6,
   "metadata": {
    "collapsed": true
   },
   "outputs": [],
   "source": [
    "def get_string(img_path):\n",
    "    r=[]\n",
    "    \n",
    "    r1=[]\n",
    "   \n",
    "    parm=[]\n",
    "    param = []\n",
    "    img = cv2.imread(img_path)\n",
    "   \n",
    "    img = cv2.cvtColor(img,cv2.COLOR_BGR2GRAY)\n",
    "    thresh , img = cv2.threshold(img,128,255,cv2.THRESH_BINARY|cv2.THRESH_OTSU)\n",
    "    kernel = np.ones((1,1),np.uint8)\n",
    "    img = cv2.dilate(img , kernel , iterations=1)\n",
    "    img = cv2.erode(img , kernel, iterations=1)\n",
    "    result = pytesseract.image_to_string(img)\n",
    "    for line in result.splitlines():\n",
    "        n = get_negatives(line)\n",
    "        p=[]\n",
    "        s1=line.split('=')\n",
    "        r=s1[-1]\n",
    "        seps = ['+','-']\n",
    "        s1 = s1[ :-1]\n",
    "        res = s1\n",
    "        \n",
    "        for sep in seps:\n",
    "            s,res = res , []\n",
    "            for seq in s:\n",
    "               \n",
    "                s2=seq.split(sep)\n",
    "               \n",
    "                res +=s2\n",
    "        if n:\n",
    "            for j in n :\n",
    "               \n",
    "                res[j]=\"-\"+res[j]\n",
    "                \n",
    "        for i in res:\n",
    "            i = i[ :-1]\n",
    "            if i =='':\n",
    "                p.append(\"1\")\n",
    "            elif i=='-':\n",
    "                p.append('-1')\n",
    "            else:\n",
    "                p.append(i) \n",
    "       \n",
    "        param= [int(i) for i in p]\n",
    "        parm.append(param)\n",
    "        \n",
    "        r1+=[int(j) for j in r]\n",
    "    print(parm)\n",
    "    print(r1)\n",
    "    x=np.linalg.solve(parm,r1)\n",
    "    print(x)\n",
    "\n",
    "   "
   ]
  },
  {
   "cell_type": "code",
   "execution_count": 7,
   "metadata": {},
   "outputs": [
    {
     "name": "stdout",
     "output_type": "stream",
     "text": [
      "[[3, 1], [1, 2]]\n",
      "[9, 8]\n",
      "[ 2.  3.]\n"
     ]
    }
   ],
   "source": [
    "get_string(window.filename)"
   ]
  },
  {
   "cell_type": "code",
   "execution_count": null,
   "metadata": {
    "collapsed": true
   },
   "outputs": [],
   "source": [
    "get_string('equation.png')"
   ]
  },
  {
   "cell_type": "code",
   "execution_count": null,
   "metadata": {
    "collapsed": true
   },
   "outputs": [],
   "source": []
  },
  {
   "cell_type": "code",
   "execution_count": null,
   "metadata": {
    "collapsed": true
   },
   "outputs": [],
   "source": []
  }
 ],
 "metadata": {
  "kernelspec": {
   "display_name": "Python 3",
   "language": "python",
   "name": "python3"
  },
  "language_info": {
   "codemirror_mode": {
    "name": "ipython",
    "version": 3
   },
   "file_extension": ".py",
   "mimetype": "text/x-python",
   "name": "python",
   "nbconvert_exporter": "python",
   "pygments_lexer": "ipython3",
   "version": "3.6.1"
  }
 },
 "nbformat": 4,
 "nbformat_minor": 2
}
